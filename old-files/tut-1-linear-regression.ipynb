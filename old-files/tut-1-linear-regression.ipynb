{
 "cells": [
  {
   "cell_type": "code",
   "execution_count": 1,
   "metadata": {},
   "outputs": [],
   "source": [
    "import torch\n",
    "from torch import tensor\n",
    "from torch import nn\n",
    "import matplotlib.pyplot as plt"
   ]
  },
  {
   "cell_type": "markdown",
   "metadata": {},
   "source": [
    "## Generating X and Y values, taking values a = 3 and b is noise\n",
    "Our Job is to find these values when we build our network."
   ]
  },
  {
   "cell_type": "code",
   "execution_count": 5,
   "metadata": {},
   "outputs": [],
   "source": [
    "# x_input is equally separated , so using the uniform distribution here.\n",
    "n = 100\n",
    "x_input = torch.ones(n,1); #x.size()\n",
    "_ = x_input.uniform_(0., 1.)"
   ]
  },
  {
   "cell_type": "code",
   "execution_count": 6,
   "metadata": {},
   "outputs": [],
   "source": [
    "b = torch.rand(n); b[:5], b.shape # added some noise\n",
    "a = tensor([3.])#, \n",
    "y = x_input@a  + b"
   ]
  },
  {
   "cell_type": "code",
   "execution_count": 7,
   "metadata": {},
   "outputs": [
    {
     "data": {
      "text/plain": [
       "<matplotlib.collections.PathCollection at 0x7f968c154cc0>"
      ]
     },
     "execution_count": 7,
     "metadata": {},
     "output_type": "execute_result"
    },
    {
     "data": {
      "image/png": "[encoded data removed]",
      "text/plain": [
       "<Figure size 432x288 with 1 Axes>"
      ]
     },
     "metadata": {},
     "output_type": "display_data"
    }
   ],
   "source": [
    "plt.scatter(x_input, y)"
   ]
  },
  {
   "cell_type": "code",
   "execution_count": 9,
   "metadata": {},
   "outputs": [],
   "source": [
    "def mse(y_hat, y): return ((y_hat-y)**2).mean()"
   ]
  },
  {
   "cell_type": "markdown",
   "metadata": {},
   "source": [
    "###  We initialize with 1 for a and b, calling them a_train and b_train"
   ]
  },
  {
   "cell_type": "code",
   "execution_count": 19,
   "metadata": {},
   "outputs": [
    {
     "data": {
      "text/plain": [
       "tensor(0.6613)"
      ]
     },
     "execution_count": 19,
     "metadata": {},
     "output_type": "execute_result"
    }
   ],
   "source": [
    "a_train = tensor([1.])#, \n",
    "b_train = tensor([1.])#, # This has a property called requires_grad which is set to false by default.\n",
    "lr = 1e-1 # take a learning rate.\n",
    "# Define the model\n",
    "def model(x_in, a_in, b_in):\n",
    "  #print(a_in, b_in, x_in[0:5])\n",
    "  return x_in@a_in + b_in\n",
    "y_hat = model(x_input, a_train, b_train)\n",
    "loss = mse(y_hat, y)\n",
    "loss"
   ]
  },
  {
   "cell_type": "code",
   "execution_count": 20,
   "metadata": {},
   "outputs": [],
   "source": [
    "def do_training():\n",
    "  y_hat = model(x_input, a_train, b_train)\n",
    "  loss = mse(y_hat, y)\n",
    "  if i % 20 == 0: print(i, loss, \"a_train:\", a_train, \"b_train:\", b_train)\n",
    "  loss.backward()\n",
    "  with torch.no_grad():\n",
    "    a_train.sub_(lr * a_train.grad)\n",
    "    b_train.sub_(lr * b_train.grad)\n",
    "    a_train.grad.zero_()\n",
    "    b_train.grad.zero_()"
   ]
  },
  {
   "cell_type": "code",
   "execution_count": 21,
   "metadata": {},
   "outputs": [
    {
     "name": "stdout",
     "output_type": "stream",
     "text": [
      "0 tensor(0.6613, grad_fn=<MeanBackward0>) a_train: tensor([1.], requires_grad=True) b_train: tensor([1.], requires_grad=True)\n",
      "20 tensor(0.4670, grad_fn=<MeanBackward0>) a_train: tensor([1.1369], requires_grad=True) b_train: tensor([1.1409], requires_grad=True)\n",
      "40 tensor(0.3860, grad_fn=<MeanBackward0>) a_train: tensor([1.2387], requires_grad=True) b_train: tensor([1.2165], requires_grad=True)\n",
      "60 tensor(0.3472, grad_fn=<MeanBackward0>) a_train: tensor([1.3187], requires_grad=True) b_train: tensor([1.2530], requires_grad=True)\n",
      "80 tensor(0.3243, grad_fn=<MeanBackward0>) a_train: tensor([1.3850], requires_grad=True) b_train: tensor([1.2659], requires_grad=True)\n",
      "100 tensor(0.3078, grad_fn=<MeanBackward0>) a_train: tensor([1.4425], requires_grad=True) b_train: tensor([1.2650], requires_grad=True)\n",
      "120 tensor(0.2940, grad_fn=<MeanBackward0>) a_train: tensor([1.4941], requires_grad=True) b_train: tensor([1.2558], requires_grad=True)\n",
      "140 tensor(0.2817, grad_fn=<MeanBackward0>) a_train: tensor([1.5417], requires_grad=True) b_train: tensor([1.2420], requires_grad=True)\n",
      "160 tensor(0.2704, grad_fn=<MeanBackward0>) a_train: tensor([1.5864], requires_grad=True) b_train: tensor([1.2255], requires_grad=True)\n",
      "180 tensor(0.2598, grad_fn=<MeanBackward0>) a_train: tensor([1.6288], requires_grad=True) b_train: tensor([1.2077], requires_grad=True)\n",
      "200 tensor(0.2499, grad_fn=<MeanBackward0>) a_train: tensor([1.6695], requires_grad=True) b_train: tensor([1.1893], requires_grad=True)\n",
      "220 tensor(0.2405, grad_fn=<MeanBackward0>) a_train: tensor([1.7087], requires_grad=True) b_train: tensor([1.1708], requires_grad=True)\n",
      "240 tensor(0.2317, grad_fn=<MeanBackward0>) a_train: tensor([1.7465], requires_grad=True) b_train: tensor([1.1525], requires_grad=True)\n",
      "260 tensor(0.2233, grad_fn=<MeanBackward0>) a_train: tensor([1.7830], requires_grad=True) b_train: tensor([1.1344], requires_grad=True)\n",
      "280 tensor(0.2155, grad_fn=<MeanBackward0>) a_train: tensor([1.8185], requires_grad=True) b_train: tensor([1.1167], requires_grad=True)\n",
      "300 tensor(0.2081, grad_fn=<MeanBackward0>) a_train: tensor([1.8528], requires_grad=True) b_train: tensor([1.0994], requires_grad=True)\n",
      "320 tensor(0.2011, grad_fn=<MeanBackward0>) a_train: tensor([1.8862], requires_grad=True) b_train: tensor([1.0826], requires_grad=True)\n",
      "340 tensor(0.1946, grad_fn=<MeanBackward0>) a_train: tensor([1.9185], requires_grad=True) b_train: tensor([1.0662], requires_grad=True)\n",
      "360 tensor(0.1884, grad_fn=<MeanBackward0>) a_train: tensor([1.9499], requires_grad=True) b_train: tensor([1.0503], requires_grad=True)\n",
      "380 tensor(0.1826, grad_fn=<MeanBackward0>) a_train: tensor([1.9804], requires_grad=True) b_train: tensor([1.0348], requires_grad=True)\n",
      "400 tensor(0.1771, grad_fn=<MeanBackward0>) a_train: tensor([2.0099], requires_grad=True) b_train: tensor([1.0198], requires_grad=True)\n",
      "420 tensor(0.1719, grad_fn=<MeanBackward0>) a_train: tensor([2.0386], requires_grad=True) b_train: tensor([1.0052], requires_grad=True)\n",
      "440 tensor(0.1670, grad_fn=<MeanBackward0>) a_train: tensor([2.0665], requires_grad=True) b_train: tensor([0.9910], requires_grad=True)\n",
      "460 tensor(0.1624, grad_fn=<MeanBackward0>) a_train: tensor([2.0936], requires_grad=True) b_train: tensor([0.9773], requires_grad=True)\n",
      "480 tensor(0.1580, grad_fn=<MeanBackward0>) a_train: tensor([2.1199], requires_grad=True) b_train: tensor([0.9639], requires_grad=True)\n",
      "500 tensor(0.1540, grad_fn=<MeanBackward0>) a_train: tensor([2.1454], requires_grad=True) b_train: tensor([0.9510], requires_grad=True)\n",
      "520 tensor(0.1501, grad_fn=<MeanBackward0>) a_train: tensor([2.1701], requires_grad=True) b_train: tensor([0.9384], requires_grad=True)\n",
      "540 tensor(0.1465, grad_fn=<MeanBackward0>) a_train: tensor([2.1942], requires_grad=True) b_train: tensor([0.9261], requires_grad=True)\n",
      "560 tensor(0.1430, grad_fn=<MeanBackward0>) a_train: tensor([2.2175], requires_grad=True) b_train: tensor([0.9143], requires_grad=True)\n",
      "580 tensor(0.1398, grad_fn=<MeanBackward0>) a_train: tensor([2.2402], requires_grad=True) b_train: tensor([0.9028], requires_grad=True)\n",
      "600 tensor(0.1368, grad_fn=<MeanBackward0>) a_train: tensor([2.2622], requires_grad=True) b_train: tensor([0.8916], requires_grad=True)\n",
      "620 tensor(0.1339, grad_fn=<MeanBackward0>) a_train: tensor([2.2836], requires_grad=True) b_train: tensor([0.8807], requires_grad=True)\n",
      "640 tensor(0.1312, grad_fn=<MeanBackward0>) a_train: tensor([2.3043], requires_grad=True) b_train: tensor([0.8702], requires_grad=True)\n",
      "660 tensor(0.1286, grad_fn=<MeanBackward0>) a_train: tensor([2.3245], requires_grad=True) b_train: tensor([0.8599], requires_grad=True)\n",
      "680 tensor(0.1262, grad_fn=<MeanBackward0>) a_train: tensor([2.3440], requires_grad=True) b_train: tensor([0.8500], requires_grad=True)\n",
      "700 tensor(0.1240, grad_fn=<MeanBackward0>) a_train: tensor([2.3630], requires_grad=True) b_train: tensor([0.8403], requires_grad=True)\n",
      "720 tensor(0.1218, grad_fn=<MeanBackward0>) a_train: tensor([2.3814], requires_grad=True) b_train: tensor([0.8310], requires_grad=True)\n",
      "740 tensor(0.1198, grad_fn=<MeanBackward0>) a_train: tensor([2.3993], requires_grad=True) b_train: tensor([0.8219], requires_grad=True)\n",
      "760 tensor(0.1179, grad_fn=<MeanBackward0>) a_train: tensor([2.4167], requires_grad=True) b_train: tensor([0.8130], requires_grad=True)\n",
      "780 tensor(0.1161, grad_fn=<MeanBackward0>) a_train: tensor([2.4336], requires_grad=True) b_train: tensor([0.8045], requires_grad=True)\n",
      "800 tensor(0.1144, grad_fn=<MeanBackward0>) a_train: tensor([2.4500], requires_grad=True) b_train: tensor([0.7961], requires_grad=True)\n",
      "820 tensor(0.1128, grad_fn=<MeanBackward0>) a_train: tensor([2.4659], requires_grad=True) b_train: tensor([0.7880], requires_grad=True)\n",
      "840 tensor(0.1113, grad_fn=<MeanBackward0>) a_train: tensor([2.4813], requires_grad=True) b_train: tensor([0.7802], requires_grad=True)\n",
      "860 tensor(0.1099, grad_fn=<MeanBackward0>) a_train: tensor([2.4963], requires_grad=True) b_train: tensor([0.7726], requires_grad=True)\n",
      "880 tensor(0.1086, grad_fn=<MeanBackward0>) a_train: tensor([2.5108], requires_grad=True) b_train: tensor([0.7652], requires_grad=True)\n",
      "900 tensor(0.1073, grad_fn=<MeanBackward0>) a_train: tensor([2.5250], requires_grad=True) b_train: tensor([0.7580], requires_grad=True)\n",
      "920 tensor(0.1062, grad_fn=<MeanBackward0>) a_train: tensor([2.5387], requires_grad=True) b_train: tensor([0.7510], requires_grad=True)\n",
      "940 tensor(0.1050, grad_fn=<MeanBackward0>) a_train: tensor([2.5520], requires_grad=True) b_train: tensor([0.7443], requires_grad=True)\n",
      "960 tensor(0.1040, grad_fn=<MeanBackward0>) a_train: tensor([2.5649], requires_grad=True) b_train: tensor([0.7377], requires_grad=True)\n",
      "980 tensor(0.1030, grad_fn=<MeanBackward0>) a_train: tensor([2.5775], requires_grad=True) b_train: tensor([0.7313], requires_grad=True)\n"
     ]
    }
   ],
   "source": [
    "a_train = tensor([1.], requires_grad=True)#, \n",
    "b_train = tensor([1.], requires_grad=True)# Pytorch Autograd mechanism at play here.\n",
    "lr = .01\n",
    "for i in range(1000):\n",
    "  do_training()"
   ]
  },
  {
   "cell_type": "markdown",
   "metadata": {},
   "source": [
    "### Print final values for a_train, b_train"
   ]
  },
  {
   "cell_type": "code",
   "execution_count": 22,
   "metadata": {},
   "outputs": [
    {
     "name": "stdout",
     "output_type": "stream",
     "text": [
      "tensor([2.5897], requires_grad=True) tensor([0.7251], requires_grad=True)\n"
     ]
    }
   ],
   "source": [
    "print(a_train, b_train)"
   ]
  },
  {
   "cell_type": "code",
   "execution_count": 24,
   "metadata": {},
   "outputs": [
    {
     "data": {
      "text/plain": [
       "Text(0.5, 1.0, 'Linear relationship')"
      ]
     },
     "execution_count": 24,
     "metadata": {},
     "output_type": "execute_result"
    },
    {
     "data": {
      "image/png": "[encoded data removed]",
      "text/plain": [
       "<Figure size 432x288 with 1 Axes>"
      ]
     },
     "metadata": {},
     "output_type": "display_data"
    }
   ],
   "source": [
    "plt.scatter(x_input,y)\n",
    "plt.scatter(x_input, model(x_input, a_train, b_train).detach().numpy())\n",
    "plt.title(\"Linear relationship\")"
   ]
  },
  {
   "cell_type": "code",
   "execution_count": 14,
   "metadata": {},
   "outputs": [],
   "source": []
  },
  {
   "cell_type": "code",
   "execution_count": null,
   "metadata": {},
   "outputs": [],
   "source": []
  }
 ],
 "metadata": {
  "kernelspec": {
   "display_name": "conda_pytorch_p36",
   "language": "python",
   "name": "conda_pytorch_p36"
  },
  "language_info": {
   "codemirror_mode": {
    "name": "ipython",
    "version": 3
   },
   "file_extension": ".py",
   "mimetype": "text/x-python",
   "name": "python",
   "nbconvert_exporter": "python",
   "pygments_lexer": "ipython3",
   "version": "3.6.10"
  }
 },
 "nbformat": 4,
 "nbformat_minor": 4
}
