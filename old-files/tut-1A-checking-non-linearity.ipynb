{
 "cells": [
  {
   "cell_type": "code",
   "execution_count": 1,
   "metadata": {},
   "outputs": [],
   "source": [
    "import torch\n",
    "from torch import tensor\n",
    "from torch import nn\n",
    "import matplotlib.pyplot as plt"
   ]
  },
  {
   "cell_type": "markdown",
   "metadata": {},
   "source": [
    "## Generating X and Y values, taking values a = 3 and b is noise\n",
    "Our Job is to find these values when we build our network."
   ]
  },
  {
   "cell_type": "code",
   "execution_count": 2,
   "metadata": {},
   "outputs": [],
   "source": [
    "# x_input is equally separated , so using the uniform distribution here.\n",
    "n = 100\n",
    "x_input = torch.ones(n,1); #x.size()\n",
    "_ = x_input.uniform_(0., 1.)"
   ]
  },
  {
   "cell_type": "code",
   "execution_count": 3,
   "metadata": {},
   "outputs": [],
   "source": [
    "b = torch.rand(n); b[:5], b.shape # added some noise\n",
    "a = tensor([3.])#, \n",
    "y = (x_input**2)@a  + b"
   ]
  },
  {
   "cell_type": "code",
   "execution_count": 4,
   "metadata": {},
   "outputs": [
    {
     "data": {
      "text/plain": [
       "<matplotlib.collections.PathCollection at 0x7f4a22d0c668>"
      ]
     },
     "execution_count": 4,
     "metadata": {},
     "output_type": "execute_result"
    },
    {
     "data": {
      "image/png": "[encoded data removed]",
      "text/plain": [
       "<Figure size 432x288 with 1 Axes>"
      ]
     },
     "metadata": {},
     "output_type": "display_data"
    }
   ],
   "source": [
    "plt.scatter(x_input, y)"
   ]
  },
  {
   "cell_type": "code",
   "execution_count": 5,
   "metadata": {},
   "outputs": [],
   "source": [
    "def mse(y_hat, y): return ((y_hat-y)**2).mean()"
   ]
  },
  {
   "cell_type": "markdown",
   "metadata": {},
   "source": [
    "###  We initialize with 1 for a and b, calling them a_train and b_train"
   ]
  },
  {
   "cell_type": "code",
   "execution_count": 6,
   "metadata": {},
   "outputs": [
    {
     "data": {
      "text/plain": [
       "tensor(0.3590)"
      ]
     },
     "execution_count": 6,
     "metadata": {},
     "output_type": "execute_result"
    }
   ],
   "source": [
    "a_train = tensor([1.])#, \n",
    "b_train = tensor([1.])#, # This has a property called requires_grad which is set to false by default.\n",
    "lr = 1e-1 # take a learning rate.\n",
    "# Define the model\n",
    "def model(x_in, a_in, b_in):\n",
    "  #print(a_in, b_in, x_in[0:5])\n",
    "  return x_in@a_in + b_in\n",
    "y_hat = model(x_input, a_train, b_train)\n",
    "loss = mse(y_hat, y)\n",
    "loss"
   ]
  },
  {
   "cell_type": "code",
   "execution_count": 13,
   "metadata": {},
   "outputs": [],
   "source": [
    "def do_training():\n",
    "  y_hat = model(x_input, a_train, b_train)\n",
    "  loss = mse(y_hat, y)\n",
    "  if i % 100 == 0: print(i, loss, \"a_train:\", a_train, \"b_train:\", b_train)\n",
    "  loss.backward()\n",
    "  with torch.no_grad():\n",
    "    a_train.sub_(lr * a_train.grad)\n",
    "    b_train.sub_(lr * b_train.grad)\n",
    "    a_train.grad.zero_()\n",
    "    b_train.grad.zero_()"
   ]
  },
  {
   "cell_type": "code",
   "execution_count": 14,
   "metadata": {},
   "outputs": [
    {
     "name": "stdout",
     "output_type": "stream",
     "text": [
      "0 tensor(0.3590, grad_fn=<MeanBackward0>) a_train: tensor([1.], requires_grad=True) b_train: tensor([1.], requires_grad=True)\n",
      "100 tensor(0.3022, grad_fn=<MeanBackward0>) a_train: tensor([1.1784], requires_grad=True) b_train: tensor([0.8479], requires_grad=True)\n",
      "200 tensor(0.2628, grad_fn=<MeanBackward0>) a_train: tensor([1.3572], requires_grad=True) b_train: tensor([0.7619], requires_grad=True)\n",
      "300 tensor(0.2322, grad_fn=<MeanBackward0>) a_train: tensor([1.5168], requires_grad=True) b_train: tensor([0.6904], requires_grad=True)\n",
      "400 tensor(0.2083, grad_fn=<MeanBackward0>) a_train: tensor([1.6578], requires_grad=True) b_train: tensor([0.6277], requires_grad=True)\n",
      "500 tensor(0.1898, grad_fn=<MeanBackward0>) a_train: tensor([1.7821], requires_grad=True) b_train: tensor([0.5724], requires_grad=True)\n",
      "600 tensor(0.1754, grad_fn=<MeanBackward0>) a_train: tensor([1.8918], requires_grad=True) b_train: tensor([0.5237], requires_grad=True)\n",
      "700 tensor(0.1642, grad_fn=<MeanBackward0>) a_train: tensor([1.9886], requires_grad=True) b_train: tensor([0.4807], requires_grad=True)\n",
      "800 tensor(0.1554, grad_fn=<MeanBackward0>) a_train: tensor([2.0740], requires_grad=True) b_train: tensor([0.4428], requires_grad=True)\n",
      "900 tensor(0.1486, grad_fn=<MeanBackward0>) a_train: tensor([2.1492], requires_grad=True) b_train: tensor([0.4094], requires_grad=True)\n"
     ]
    }
   ],
   "source": [
    "a_train = tensor([1.], requires_grad=True)#, \n",
    "b_train = tensor([1.], requires_grad=True)# Pytorch Autograd mechanism at play here.\n",
    "lr = .01\n",
    "for i in range(1000):\n",
    "  do_training()"
   ]
  },
  {
   "cell_type": "markdown",
   "metadata": {},
   "source": [
    "### Print final values for a_train, b_train"
   ]
  },
  {
   "cell_type": "code",
   "execution_count": 9,
   "metadata": {},
   "outputs": [
    {
     "name": "stdout",
     "output_type": "stream",
     "text": [
      "tensor([2.2156], requires_grad=True) tensor([0.3799], requires_grad=True)\n"
     ]
    }
   ],
   "source": [
    "print(a_train, b_train)"
   ]
  },
  {
   "cell_type": "code",
   "execution_count": 12,
   "metadata": {},
   "outputs": [
    {
     "data": {
      "text/plain": [
       "Text(0.5, 1.0, 'when data is non linear')"
      ]
     },
     "execution_count": 12,
     "metadata": {},
     "output_type": "execute_result"
    },
    {
     "data": {
      "image/png": "[encoded data removed]",
      "text/plain": [
       "<Figure size 432x288 with 1 Axes>"
      ]
     },
     "metadata": {},
     "output_type": "display_data"
    }
   ],
   "source": [
    "plt.scatter(x_input,y)\n",
    "plt.scatter(x_input, model(x_input, a_train, b_train).detach().numpy())\n",
    "plt.title(\"when data is non linear\")"
   ]
  },
  {
   "cell_type": "code",
   "execution_count": null,
   "metadata": {},
   "outputs": [],
   "source": []
  },
  {
   "cell_type": "code",
   "execution_count": null,
   "metadata": {},
   "outputs": [],
   "source": []
  }
 ],
 "metadata": {
  "kernelspec": {
   "display_name": "conda_pytorch_p36",
   "language": "python",
   "name": "conda_pytorch_p36"
  },
  "language_info": {
   "codemirror_mode": {
    "name": "ipython",
    "version": 3
   },
   "file_extension": ".py",
   "mimetype": "text/x-python",
   "name": "python",
   "nbconvert_exporter": "python",
   "pygments_lexer": "ipython3",
   "version": "3.6.5"
  }
 },
 "nbformat": 4,
 "nbformat_minor": 4
}
